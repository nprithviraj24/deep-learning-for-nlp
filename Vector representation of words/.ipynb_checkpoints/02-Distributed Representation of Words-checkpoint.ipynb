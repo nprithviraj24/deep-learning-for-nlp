{
 "cells": [
  {
   "cell_type": "markdown",
   "metadata": {},
   "source": [
    "## Distributed representation of Words\n",
    "\n",
    "### Necessary background study:\n",
    "\n",
    "###### Distributed semantics\n",
    "We can analyze the use of words in language to deduce their meaning\n",
    "\n",
    "\n",
    "\n",
    "#### Co-occurence matrix\n",
    "It is matrix of terms × terms which captures the number of times a term appears in the context of another term is created. "
   ]
  },
  {
   "cell_type": "code",
   "execution_count": 2,
   "metadata": {},
   "outputs": [
    {
     "name": "stdout",
     "output_type": "stream",
     "text": [
      "[[0 1 0 1 0 0 1 0 2 1 0 0 0 1 1 1 0 0 0 1 0 1 0]\n",
      " [1 0 0 1 0 0 1 0 2 1 0 0 0 1 1 1 0 0 0 1 0 1 0]\n",
      " [0 0 0 0 1 1 1 0 1 0 0 0 1 0 0 0 0 0 0 1 0 0 0]\n",
      " [1 1 0 0 0 0 1 0 2 1 0 0 0 1 1 1 0 0 0 1 0 1 0]\n",
      " [0 0 1 0 0 1 1 0 1 0 0 0 1 0 0 0 0 0 0 1 0 0 0]\n",
      " [0 0 1 0 1 0 1 0 1 0 0 0 1 0 0 0 0 0 0 1 0 0 0]\n",
      " [1 1 1 1 1 1 0 1 4 1 1 1 1 1 1 1 1 1 1 2 1 1 1]\n",
      " [0 0 0 0 0 0 1 0 1 0 1 1 0 0 0 0 1 1 1 0 1 0 1]\n",
      " [2 2 1 2 1 1 4 1 0 2 1 1 1 2 2 2 1 1 1 3 1 2 1]\n",
      " [1 1 0 1 0 0 1 0 2 0 0 0 0 1 1 1 0 0 0 1 0 1 0]\n",
      " [0 0 0 0 0 0 1 1 1 0 0 1 0 0 0 0 1 1 1 0 1 0 1]\n",
      " [0 0 0 0 0 0 1 1 1 0 1 0 0 0 0 0 1 1 1 0 1 0 1]\n",
      " [0 0 1 0 1 1 1 0 1 0 0 0 0 0 0 0 0 0 0 1 0 0 0]\n",
      " [1 1 0 1 0 0 1 0 2 1 0 0 0 0 1 1 0 0 0 1 0 1 0]\n",
      " [1 1 0 1 0 0 1 0 2 1 0 0 0 1 0 1 0 0 0 1 0 1 0]\n",
      " [1 1 0 1 0 0 1 0 2 1 0 0 0 1 1 0 0 0 0 1 0 1 0]\n",
      " [0 0 0 0 0 0 1 1 1 0 1 1 0 0 0 0 0 1 1 0 1 0 1]\n",
      " [0 0 0 0 0 0 1 1 1 0 1 1 0 0 0 0 1 0 1 0 1 0 1]\n",
      " [0 0 0 0 0 0 1 1 1 0 1 1 0 0 0 0 1 1 0 0 1 0 1]\n",
      " [1 1 1 1 1 1 2 0 3 1 0 0 1 1 1 1 0 0 0 0 0 1 0]\n",
      " [0 0 0 0 0 0 1 1 1 0 1 1 0 0 0 0 1 1 1 0 0 0 1]\n",
      " [1 1 0 1 0 0 1 0 2 1 0 0 0 1 1 1 0 0 0 1 0 0 0]\n",
      " [0 0 0 0 0 0 1 1 1 0 1 1 0 0 0 0 1 1 1 0 1 0 0]]\n"
     ]
    }
   ],
   "source": [
    "from sklearn.feature_extraction.text import CountVectorizer\n",
    "docs = ['Boston Celtics are leading in their conference.',\n",
    "        'LA Lakers have secured top spot in Western conference table.',\n",
    "        'Kobe and Lebron in 2010 were best players in their respective conference']\n",
    "count_model = CountVectorizer(ngram_range=(1,1)) # default unigram model\n",
    "X = count_model.fit_transform(docs)\n",
    "# X[X > 0] = 1 # run this line if you don't want extra within-text cooccurence (see below)\n",
    "Xc = (X.T * X) # this is co-occurrence matrix in sparse csr format\n",
    "Xc.setdiag(0) # sometimes you want to fill same word cooccurence to 0\n",
    "print(Xc.todense()) # print out matrix in dense format"
   ]
  },
  {
   "cell_type": "code",
   "execution_count": null,
   "metadata": {},
   "outputs": [],
   "source": []
  }
 ],
 "metadata": {
  "kernelspec": {
   "display_name": "Python 3",
   "language": "python",
   "name": "python3"
  },
  "language_info": {
   "codemirror_mode": {
    "name": "ipython",
    "version": 3
   },
   "file_extension": ".py",
   "mimetype": "text/x-python",
   "name": "python",
   "nbconvert_exporter": "python",
   "pygments_lexer": "ipython3",
   "version": "3.7.4"
  }
 },
 "nbformat": 4,
 "nbformat_minor": 2
}
